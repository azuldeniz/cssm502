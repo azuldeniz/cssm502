{
 "cells": [
  {
   "cell_type": "markdown",
   "id": "fcbcffbe",
   "metadata": {},
   "source": [
    "# Assignment 1\n",
    "\n",
    "#### Advanced Data Analysis with Python\n",
    "M. Fuat Kına"
   ]
  },
  {
   "cell_type": "markdown",
   "id": "3fe6f0ed",
   "metadata": {},
   "source": [
    "In this assignment, you will solve five problems. I would like to remind you that even if you are allowed to work with your classmates, you must submit YOUR OWN solutions at the end, that is, try to develop your own path for each solution.\n",
    "\n",
    "Good luck!\n"
   ]
  },
  {
   "cell_type": "code",
   "execution_count": null,
   "id": "5224da76",
   "metadata": {},
   "outputs": [],
   "source": [
    "# Deniz Hallik"
   ]
  },
  {
   "cell_type": "markdown",
   "id": "b1b73df1",
   "metadata": {},
   "source": [
    "There are five problems:\n",
    "\n",
    "_1. Produce a number guessing game, in which the user will make a guess from 1 to 20, and the program is going to report whether the number is correct._\n",
    "\n",
    "The game is expected to remain until the user guess the correct number. For any wrong answer, the program should also report whether the guessed number is higher or lower than the correct number. \n",
    "\n",
    "- Hint: The program should first create a random correct number, from 1 to 20."
   ]
  },
  {
   "cell_type": "code",
   "execution_count": null,
   "id": "b35be120",
   "metadata": {},
   "outputs": [],
   "source": [
    "# Guessing game\n",
    "\n",
    "import random\n",
    "import math\n",
    "\n",
    "# set random number\n",
    "random = random.randint(1,20)\n",
    "\n",
    "# set an empty guess\n",
    "guess = []\n",
    "\n",
    "# see if random == guess, print accordingly\n",
    "\n",
    "while guess != random:\n",
    "    guess = int(input(\"Guess a number between 1 and 20:  \"))\n",
    "\n",
    "    if guess == random:\n",
    "        print(\"You guessed correctly, congrats!\")\n",
    "        break\n",
    "    elif guess > random:\n",
    "        print(\"You guessed too high, try again.\")\n",
    "    elif guess < random:\n",
    "        print(\"You guessed too low, try again.\")"
   ]
  },
  {
   "cell_type": "markdown",
   "id": "7d621aed",
   "metadata": {},
   "source": [
    "_2. Given a sorted array of distinct integers and a target value, return the index if the target is found. If not, return the index where it would be if it were inserted in order._"
   ]
  },
  {
   "cell_type": "code",
   "execution_count": 146,
   "id": "57a67261",
   "metadata": {
    "scrolled": true
   },
   "outputs": [
    {
     "name": "stdout",
     "output_type": "stream",
     "text": [
      "[[  0   9  12  19  41  46  55  57  68  68 108]]\n",
      "Target exists in the array at index: 6\n"
     ]
    }
   ],
   "source": [
    "# Target index\n",
    "\n",
    "import numpy as np\n",
    "\n",
    "randarr = np.sort(np.random.randint(111, size=(1,11)))\n",
    "print(randarr)\n",
    "\n",
    "\n",
    "def indexer(sorarr, target):\n",
    "    if np.isin(target, randarr):\n",
    "        target_index = np.where(np.sort(sorarr)==target)[0][0]\n",
    "        print('Target exists in the array at index: %i'%target_index)\n",
    "    else:\n",
    "        print('Target does not exist in the array, but if it did, it would be at index:')\n",
    "        potential = np.insert(sorarr,np.argmax(sorarr), target)\n",
    "        print(np.where(np.sort(potential) == target)[0][0])\n",
    "\n",
    "indexer(randarr[0], 55)"
   ]
  },
  {
   "cell_type": "markdown",
   "id": "5bf2444a",
   "metadata": {},
   "source": [
    "_3. Given two binary strings a and b, return their sum as a binary string._\n",
    "\n",
    "For instance:\n",
    "\n",
    "- Input: a = \"11\", b = \"1\"\n",
    "\n",
    "- Output: \"100\"\n"
   ]
  },
  {
   "cell_type": "code",
   "execution_count": 109,
   "id": "028d4d28",
   "metadata": {},
   "outputs": [
    {
     "name": "stdout",
     "output_type": "stream",
     "text": [
      "10001\n"
     ]
    }
   ],
   "source": [
    "# Sum of binary strings \n",
    "\n",
    "a=\"1101\"\n",
    "b=\"100\"\n",
    "\n",
    "def sbs(a, b):\n",
    "    \n",
    "    maxlen = max(len(a), len(b))\n",
    "    a = a.zfill(maxlen)\n",
    "    b = b.zfill(maxlen)\n",
    "\n",
    "    result = ''\n",
    "    empt = 0\n",
    "\n",
    "    for i in range(maxlen-1, -1, -1):\n",
    "        addon = empt\n",
    "        addon += 1 if a[i] == '1' else 0\n",
    "        addon += 1 if b[i] == '1' else 0\n",
    "        result = ('1' if addon % 2 == 1 else '0') + result\n",
    "        empt = 0 if addon < 2 else 1     \n",
    "\n",
    "    if empt !=0 : \n",
    "        result = '1' + result\n",
    "\n",
    "    return result.zfill(maxlen)\n",
    "\n",
    "print(sbs(a,b))"
   ]
  },
  {
   "cell_type": "markdown",
   "id": "c37a6166",
   "metadata": {},
   "source": [
    "_4. Given a non-empty array of integers numbers, every element appears twice except for one. Find that single one._"
   ]
  },
  {
   "cell_type": "code",
   "execution_count": 122,
   "id": "b54ac235",
   "metadata": {},
   "outputs": [
    {
     "name": "stdout",
     "output_type": "stream",
     "text": [
      "That single one is 11.\n"
     ]
    },
    {
     "data": {
      "text/plain": [
       "11"
      ]
     },
     "execution_count": 122,
     "metadata": {},
     "output_type": "execute_result"
    }
   ],
   "source": [
    "# Single one in non-empty array\n",
    "\n",
    "import numpy as np\n",
    "\n",
    "def singleone(array):\n",
    "    newarr = np.reshape(array, array.size)\n",
    "    \n",
    "    for ele in newarr:\n",
    "        \n",
    "        if len(np.where(newarr == ele)[0]) == 2:\n",
    "            continue\n",
    "            \n",
    "        else:\n",
    "            print('That single one is %s.'%ele)\n",
    "            return ele\n",
    "\n",
    "nonemparray = np.array([1,1,3,3,7,7,9,9,11,13,13,15,15])\n",
    "singleone(nonemparray)"
   ]
  },
  {
   "cell_type": "markdown",
   "id": "c7d5040c",
   "metadata": {},
   "source": [
    "_5. The DNA sequence is composed of a series of nucleotides abbreviated as 'A', 'C', 'G', and 'T'._\n",
    "\n",
    "For example, \"ACGAATTCCG\" is a DNA sequence.\n",
    "When studying DNA, it is useful to identify repeated sequences within the DNA.\n",
    "\n",
    "Given a string s that represents a DNA sequence, return all the 10-letter-long sequences (substrings) that occur more than once in a DNA molecule. You may return the answer in any order.\n",
    "\n",
    "For instance:\n",
    "\n",
    "- Input: s = \"AAAAACCCCCAAAAACCCCCCAAAAAGGGTTT\"\n",
    "\n",
    "- Output: [\"AAAAACCCCC\",\"CCCCCAAAAA\"]\n"
   ]
  },
  {
   "cell_type": "code",
   "execution_count": 135,
   "id": "079f807e",
   "metadata": {},
   "outputs": [
    {
     "data": {
      "text/plain": [
       "['AAAAACCCCC', 'CCCCCAAAAA']"
      ]
     },
     "execution_count": 135,
     "metadata": {},
     "output_type": "execute_result"
    }
   ],
   "source": [
    "# DNA sequence\n",
    "\n",
    "s = \"AAAAACCCCCAAAAACCCCCCAAAAAGGGTTT\"\n",
    "\n",
    "def seq(s):\n",
    "    nucleo = []\n",
    "    mto = []\n",
    "    \n",
    "    for i in range(len(s)-9):\n",
    "        nucleo.append(s[i:i+10])\n",
    "        \n",
    "    for ele in nucleo:\n",
    "        if nucleo.count(ele) == 1:\n",
    "            continue\n",
    "        else:\n",
    "            if ele in mto:\n",
    "                continue\n",
    "            else:\n",
    "                mto.append(ele)\n",
    "                \n",
    "    return mto\n",
    "\n",
    "seq(s)"
   ]
  },
  {
   "cell_type": "code",
   "execution_count": null,
   "id": "93cdb09f",
   "metadata": {},
   "outputs": [],
   "source": []
  }
 ],
 "metadata": {
  "kernelspec": {
   "display_name": "Python 3 (ipykernel)",
   "language": "python",
   "name": "python3"
  },
  "language_info": {
   "codemirror_mode": {
    "name": "ipython",
    "version": 3
   },
   "file_extension": ".py",
   "mimetype": "text/x-python",
   "name": "python",
   "nbconvert_exporter": "python",
   "pygments_lexer": "ipython3",
   "version": "3.9.12"
  }
 },
 "nbformat": 4,
 "nbformat_minor": 5
}
