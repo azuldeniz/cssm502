{
 "cells": [
  {
   "cell_type": "code",
   "execution_count": 6,
   "id": "714127b5",
   "metadata": {},
   "outputs": [],
   "source": [
    "#################### INTRODUCTION TO PYTHON ####################"
   ]
  },
  {
   "cell_type": "code",
   "execution_count": 7,
   "id": "45a48bd1",
   "metadata": {},
   "outputs": [],
   "source": [
    "# Printing to the screen\n",
    "# Variables\n",
    "# Lists\n",
    "# Strings\n",
    "# Dictionaries\n",
    "# Operators\n",
    "# If statement and loops\n",
    "# Functions\n",
    "# Files"
   ]
  },
  {
   "cell_type": "code",
   "execution_count": 2,
   "id": "819e2962",
   "metadata": {},
   "outputs": [],
   "source": [
    "############### PRINTING ###############"
   ]
  },
  {
   "cell_type": "code",
   "execution_count": 4,
   "id": "6004e340",
   "metadata": {},
   "outputs": [
    {
     "name": "stdout",
     "output_type": "stream",
     "text": [
      "Hello\n",
      "\n",
      "\n",
      "World\n"
     ]
    }
   ],
   "source": [
    "print(\"Hello\", end=\"\\n\\n\\n\")\n",
    "print(\"World\")"
   ]
  },
  {
   "cell_type": "code",
   "execution_count": 5,
   "id": "977ef933",
   "metadata": {},
   "outputs": [
    {
     "name": "stdout",
     "output_type": "stream",
     "text": [
      "Hello!World\n"
     ]
    }
   ],
   "source": [
    "print(\"Hello\", \"World\", sep=\"!\")"
   ]
  },
  {
   "cell_type": "code",
   "execution_count": 7,
   "id": "21b21269",
   "metadata": {},
   "outputs": [
    {
     "name": "stdout",
     "output_type": "stream",
     "text": [
      "Hello World!"
     ]
    }
   ],
   "source": [
    "print(\"Hello\", end=\" \")\n",
    "print(\"World\", end=\"!\")"
   ]
  },
  {
   "cell_type": "code",
   "execution_count": 8,
   "id": "8b37e2a1",
   "metadata": {},
   "outputs": [
    {
     "name": "stdout",
     "output_type": "stream",
     "text": [
      "Hello\n",
      "World\n"
     ]
    }
   ],
   "source": [
    "print(\"Hello\", end=\"\\n\")\n",
    "print(\"World\")"
   ]
  },
  {
   "cell_type": "code",
   "execution_count": 20,
   "id": "07dc94a4",
   "metadata": {},
   "outputs": [],
   "source": [
    "############### VARIABLES ###############"
   ]
  },
  {
   "cell_type": "code",
   "execution_count": 9,
   "id": "96a89637",
   "metadata": {},
   "outputs": [],
   "source": [
    "my_variable_integer = 100       #an integer assignment\n",
    "# like in R, my_variable_integer <-- 100\n",
    "my_variable_float = 1000.0      #a floating point\n",
    "my_variable_string = \"John\"     #a string"
   ]
  },
  {
   "cell_type": "code",
   "execution_count": 10,
   "id": "681c9958",
   "metadata": {},
   "outputs": [
    {
     "name": "stdout",
     "output_type": "stream",
     "text": [
      "John\n"
     ]
    }
   ],
   "source": [
    "print(my_variable_string)"
   ]
  },
  {
   "cell_type": "code",
   "execution_count": 11,
   "id": "425af76c",
   "metadata": {},
   "outputs": [
    {
     "data": {
      "text/plain": [
       "'John'"
      ]
     },
     "execution_count": 11,
     "metadata": {},
     "output_type": "execute_result"
    }
   ],
   "source": [
    "my_variable_string"
   ]
  },
  {
   "cell_type": "code",
   "execution_count": 12,
   "id": "cff82e37",
   "metadata": {},
   "outputs": [
    {
     "name": "stdout",
     "output_type": "stream",
     "text": [
      "<class 'str'>\n"
     ]
    }
   ],
   "source": [
    "print(type(my_variable_string))"
   ]
  },
  {
   "cell_type": "code",
   "execution_count": 13,
   "id": "d8fe614e",
   "metadata": {},
   "outputs": [],
   "source": [
    "#another class is 'bool' which is a boolean: true or false "
   ]
  },
  {
   "cell_type": "code",
   "execution_count": 14,
   "id": "9c7baeeb",
   "metadata": {},
   "outputs": [
    {
     "name": "stdout",
     "output_type": "stream",
     "text": [
      "125.0\n"
     ]
    }
   ],
   "source": [
    "# Example 1 \n",
    "x = 10\n",
    "y = 12.5\n",
    "z = x*y\n",
    "print(z)"
   ]
  },
  {
   "cell_type": "code",
   "execution_count": null,
   "id": "2d57a517",
   "metadata": {},
   "outputs": [],
   "source": [
    "#Do not use these variable names in Python\n",
    "#and\tassert\tbreak\texec\tnot\tlambda\tyield\twith\n",
    "#while\ttry\traise\tprint\tpass\tor\tis\twin\n",
    "#import\tif\tglobal\tfrom\tfor\tfinally\telse\telif\n",
    "#del\tdef\tcontinue\tclass\treturn\tTrue\tFalse\texcept"
   ]
  },
  {
   "cell_type": "code",
   "execution_count": 15,
   "id": "1c9f3f2e",
   "metadata": {},
   "outputs": [
    {
     "name": "stdout",
     "output_type": "stream",
     "text": [
      "42\n"
     ]
    }
   ],
   "source": [
    "# Example 2\n",
    "number_of_students = 30\n",
    "number_of_teachers = 12\n",
    "number_of_students_and_teachers = number_of_students + number_of_teachers\n",
    "print(number_of_students_and_teachers)"
   ]
  },
  {
   "cell_type": "code",
   "execution_count": 16,
   "id": "030fe16f",
   "metadata": {},
   "outputs": [],
   "source": [
    "# do not use the built in green python methods as variable names"
   ]
  },
  {
   "cell_type": "code",
   "execution_count": 17,
   "id": "9c204e18",
   "metadata": {},
   "outputs": [
    {
     "name": "stdout",
     "output_type": "stream",
     "text": [
      "String: LovePython\n"
     ]
    }
   ],
   "source": [
    "# change this code\n",
    "mystring = \"LovePython\"\n",
    "myfloat = 6.0\n",
    "myint = 4\n",
    "\n",
    "# testing code\n",
    "if mystring == \"LovePython\":\n",
    "    print(\"String: %s\" % mystring)"
   ]
  },
  {
   "cell_type": "code",
   "execution_count": 18,
   "id": "c9d73858",
   "metadata": {},
   "outputs": [
    {
     "name": "stdout",
     "output_type": "stream",
     "text": [
      "Let's talk about Fuat.\n",
      "He's 1.780000 meters tall.\n",
      "He's 71 kg heavy.\n"
     ]
    }
   ],
   "source": [
    "my_name = \"Fuat\"\n",
    "print(\"Let's talk about %s.\" %my_name)\n",
    "\n",
    "my_height = 1.78\n",
    "print(\"He's %f meters tall.\" % my_height)\n",
    "\n",
    "my_weight = 71\n",
    "print(\"He's %i kg heavy.\" % my_weight)"
   ]
  },
  {
   "cell_type": "code",
   "execution_count": 19,
   "id": "88aee91e",
   "metadata": {},
   "outputs": [],
   "source": [
    "############### LISTS ###############"
   ]
  },
  {
   "cell_type": "code",
   "execution_count": 21,
   "id": "e61e7e65",
   "metadata": {},
   "outputs": [],
   "source": [
    "# empty list\n",
    "my_list = []\n",
    "\n",
    "# list of integers\n",
    "my_list = [2, 5, 8, 9]\n",
    "\n",
    "# list of strings\n",
    "my_list = ['Monday','Tuesday', 'Wednesday', 'Thursday', 'Friday' ]"
   ]
  },
  {
   "cell_type": "code",
   "execution_count": 10,
   "id": "84536539",
   "metadata": {},
   "outputs": [],
   "source": [
    "# Declare a list of prime number\n",
    "primes = [2,3,5,7,9,11]"
   ]
  },
  {
   "cell_type": "code",
   "execution_count": 23,
   "id": "9e8785e0",
   "metadata": {},
   "outputs": [
    {
     "data": {
      "text/plain": [
       "list"
      ]
     },
     "execution_count": 23,
     "metadata": {},
     "output_type": "execute_result"
    }
   ],
   "source": [
    "# Check the type of the variable\n",
    "type(primes)"
   ]
  },
  {
   "cell_type": "code",
   "execution_count": 24,
   "id": "a4ff6080",
   "metadata": {},
   "outputs": [
    {
     "name": "stdout",
     "output_type": "stream",
     "text": [
      "[2, 3, 5, 7, 9, 11]\n"
     ]
    }
   ],
   "source": [
    "#See the content of a list\n",
    "print(primes)"
   ]
  },
  {
   "cell_type": "code",
   "execution_count": 25,
   "id": "fe6ddc44",
   "metadata": {},
   "outputs": [
    {
     "data": {
      "text/plain": [
       "6"
      ]
     },
     "execution_count": 25,
     "metadata": {},
     "output_type": "execute_result"
    }
   ],
   "source": [
    "# Check the length of a list\n",
    "len(primes)"
   ]
  },
  {
   "cell_type": "code",
   "execution_count": 26,
   "id": "1d3c72dc",
   "metadata": {},
   "outputs": [
    {
     "data": {
      "text/plain": [
       "2"
      ]
     },
     "execution_count": 26,
     "metadata": {},
     "output_type": "execute_result"
    }
   ],
   "source": [
    "# Accesss on element\n",
    "primes[0]"
   ]
  },
  {
   "cell_type": "code",
   "execution_count": 17,
   "id": "e2fd45da",
   "metadata": {},
   "outputs": [
    {
     "data": {
      "text/plain": [
       "[2, 3, 5, 7, 9, 13]"
      ]
     },
     "execution_count": 17,
     "metadata": {},
     "output_type": "execute_result"
    }
   ],
   "source": [
    "# Modify an element\n",
    "primes[5] = 13\n",
    "primes"
   ]
  },
  {
   "cell_type": "code",
   "execution_count": 18,
   "id": "559e156a",
   "metadata": {},
   "outputs": [
    {
     "data": {
      "text/plain": [
       "[2, 3, 5, 7, 9, 13, 17]"
      ]
     },
     "execution_count": 18,
     "metadata": {},
     "output_type": "execute_result"
    }
   ],
   "source": [
    "# Adding an element\n",
    "primes.append(17)\n",
    "primes"
   ]
  },
  {
   "cell_type": "code",
   "execution_count": 19,
   "id": "0cfec22c",
   "metadata": {},
   "outputs": [
    {
     "data": {
      "text/plain": [
       "[2, 3, 5, 7, 9, 13]"
      ]
     },
     "execution_count": 19,
     "metadata": {},
     "output_type": "execute_result"
    }
   ],
   "source": [
    "# Deleting an element\n",
    "\n",
    "del primes[6]\n",
    "primes"
   ]
  },
  {
   "cell_type": "code",
   "execution_count": 23,
   "id": "c1b990e2",
   "metadata": {},
   "outputs": [
    {
     "name": "stdout",
     "output_type": "stream",
     "text": [
      "primes: [2, 3, 5, 7, 9, 13] , primes_copy: [2, 3, 5, 7, 9, 13, 23]\n"
     ]
    }
   ],
   "source": [
    "primes_copy = primes.copy()\n",
    "\n",
    "# add one element to primes\n",
    "primes_copy.append(23)\n",
    "\n",
    "print('primes:', primes, ', primes_copy:', primes_copy)"
   ]
  },
  {
   "cell_type": "code",
   "execution_count": 24,
   "id": "1d348e30",
   "metadata": {},
   "outputs": [
    {
     "name": "stdout",
     "output_type": "stream",
     "text": [
      "['black', 'red', 'blue', 'yellow', 'gray', 'orange']\n"
     ]
    }
   ],
   "source": [
    "my_list = ['red', 'blue', 'yellow']\n",
    "\n",
    "## insert 'black' at index 0\n",
    "my_list.insert(0, 'black')\n",
    "\n",
    "## add list of elems at end\n",
    "new_list = ['gray', 'orange']\n",
    "\n",
    "my_list.extend(new_list)\n",
    "print(my_list)"
   ]
  },
  {
   "cell_type": "code",
   "execution_count": 25,
   "id": "f8b19d10",
   "metadata": {},
   "outputs": [],
   "source": [
    "### EXERCISES ###"
   ]
  },
  {
   "cell_type": "code",
   "execution_count": 22,
   "id": "a67dc93f",
   "metadata": {},
   "outputs": [
    {
     "name": "stdout",
     "output_type": "stream",
     "text": [
      "52\n"
     ]
    }
   ],
   "source": [
    "#1# sum all items in a list\n",
    "\n",
    "x = [3,4,5,17,23]\n",
    "\n",
    "total = sum(x)\n",
    "\n",
    "print(total)"
   ]
  },
  {
   "cell_type": "code",
   "execution_count": 34,
   "id": "2a558b5f",
   "metadata": {},
   "outputs": [
    {
     "name": "stdout",
     "output_type": "stream",
     "text": [
      "maximum: \n",
      "23\n",
      "minimum: \n",
      "3\n"
     ]
    }
   ],
   "source": [
    "#2# to get the largest and smallest number from a list\n",
    "\n",
    "maximum = max(x)\n",
    "\n",
    "minimum = min(x)\n",
    "\n",
    "print('maximum: ', maximum, 'minimum: ', minimum, sep=\"\\n\")"
   ]
  },
  {
   "cell_type": "code",
   "execution_count": 29,
   "id": "313885a0",
   "metadata": {},
   "outputs": [
    {
     "name": "stdout",
     "output_type": "stream",
     "text": [
      "[1, 2, 3, 4, 5, 6, 7, 8, 9]\n"
     ]
    }
   ],
   "source": [
    "#3# list of integer number less than 10 and call it x\n",
    "\n",
    "# syntax: range(start, stop, step)\n",
    "# x = [range(1,10,1)] ==> without the *, it would just give [range(1, 10)]\n",
    "\n",
    "x = [*range(1,10,1)]     \n",
    "print(x)"
   ]
  },
  {
   "cell_type": "code",
   "execution_count": 27,
   "id": "53d65f90",
   "metadata": {},
   "outputs": [],
   "source": [
    "############### STRINGS ###############"
   ]
  },
  {
   "cell_type": "code",
   "execution_count": 39,
   "id": "83d42b92",
   "metadata": {},
   "outputs": [],
   "source": [
    "a = \"We Love Python!\""
   ]
  },
  {
   "cell_type": "code",
   "execution_count": 41,
   "id": "22194df3",
   "metadata": {},
   "outputs": [
    {
     "name": "stdout",
     "output_type": "stream",
     "text": [
      "['We', 'Love', 'Python!']\n"
     ]
    }
   ],
   "source": [
    "#Example: split the variable a to 3 words\n",
    "print(a.split(' '))"
   ]
  },
  {
   "cell_type": "code",
   "execution_count": 32,
   "id": "f6536df6",
   "metadata": {},
   "outputs": [
    {
     "name": "stdout",
     "output_type": "stream",
     "text": [
      "We Love Python! Python Loves Us!\n"
     ]
    },
    {
     "data": {
      "text/plain": [
       "15"
      ]
     },
     "execution_count": 32,
     "metadata": {},
     "output_type": "execute_result"
    }
   ],
   "source": [
    "# Example: append a string to another string\n",
    "a = \"We Love Python!\"\n",
    "b = \"Python Loves Us!\"\n",
    "c = a + \" \" + b\n",
    "print(c)\n",
    "len(a)"
   ]
  },
  {
   "cell_type": "code",
   "execution_count": 43,
   "id": "f607b39e",
   "metadata": {},
   "outputs": [
    {
     "data": {
      "text/plain": [
       "'We Love Python!We Love Python!We Love Python!'"
      ]
     },
     "execution_count": 43,
     "metadata": {},
     "output_type": "execute_result"
    }
   ],
   "source": [
    "a*3"
   ]
  },
  {
   "cell_type": "code",
   "execution_count": 46,
   "id": "7961c03f",
   "metadata": {},
   "outputs": [],
   "source": [
    "### SLICING AND INDEXING ###"
   ]
  },
  {
   "cell_type": "code",
   "execution_count": 42,
   "id": "88c82d3c",
   "metadata": {},
   "outputs": [],
   "source": [
    "# variable a -->  W e \" L o v e \" P y  t h  o  n  !\n",
    "# index      -->  0 1 2 3 4 5 6 7 8 9 10 11 12 13 14 "
   ]
  },
  {
   "cell_type": "code",
   "execution_count": 35,
   "id": "4c822bfc",
   "metadata": {},
   "outputs": [
    {
     "name": "stdout",
     "output_type": "stream",
     "text": [
      "!\n",
      "!\n"
     ]
    }
   ],
   "source": [
    "# Example: access the character \"!\" in the variable a \n",
    "print(a[14])\n",
    "print(a[-1])"
   ]
  },
  {
   "cell_type": "code",
   "execution_count": 36,
   "id": "171429de",
   "metadata": {},
   "outputs": [
    {
     "name": "stdout",
     "output_type": "stream",
     "text": [
      "Love\n"
     ]
    }
   ],
   "source": [
    "# Example: print only \"Love\" part of the variable a\n",
    "a = \"We Love Python\"\n",
    "print(a[3:7])"
   ]
  },
  {
   "cell_type": "code",
   "execution_count": 37,
   "id": "48d6b770",
   "metadata": {},
   "outputs": [
    {
     "name": "stdout",
     "output_type": "stream",
     "text": [
      "Love Python\n"
     ]
    }
   ],
   "source": [
    "# Example: slice the variable a from index 3 to the end\n",
    "print(a[3:])"
   ]
  },
  {
   "cell_type": "code",
   "execution_count": 38,
   "id": "825e75f3",
   "metadata": {},
   "outputs": [
    {
     "name": "stdout",
     "output_type": "stream",
     "text": [
      "We Love\n"
     ]
    }
   ],
   "source": [
    "# Example: slivce the variable a from the beginning till the index 7\n",
    "print(a[:7])"
   ]
  },
  {
   "cell_type": "code",
   "execution_count": 39,
   "id": "ddaf0da5",
   "metadata": {},
   "outputs": [
    {
     "name": "stdout",
     "output_type": "stream",
     "text": [
      "WLeyo\n"
     ]
    }
   ],
   "source": [
    "# Example: access every third character\n",
    "print(a[0:14:3])"
   ]
  },
  {
   "cell_type": "code",
   "execution_count": null,
   "id": "20d31020",
   "metadata": {},
   "outputs": [],
   "source": [
    "############### DICTIONARIES ############### "
   ]
  },
  {
   "cell_type": "code",
   "execution_count": 41,
   "id": "0507ffdb",
   "metadata": {},
   "outputs": [],
   "source": [
    "# dic = {\n",
    "#            <key1>:<value1>,\n",
    "#            <key2>:<value2>,\n",
    "#            .\n",
    "#            .\n",
    "#            .\n",
    "#            <keyn>:<valuen>,\n",
    "#            }"
   ]
  },
  {
   "cell_type": "code",
   "execution_count": 45,
   "id": "68b21860",
   "metadata": {},
   "outputs": [],
   "source": [
    "Movie = {\n",
    "    \"name\" : \"Twin Peaks\",\n",
    "    \"director\" : \"David Lynch\",\n",
    "    \"year\" : 1990,\n",
    "}"
   ]
  },
  {
   "cell_type": "code",
   "execution_count": 46,
   "id": "1b4776b8",
   "metadata": {},
   "outputs": [],
   "source": [
    "Movie.update?"
   ]
  },
  {
   "cell_type": "code",
   "execution_count": 50,
   "id": "dd7d5244",
   "metadata": {
    "scrolled": true
   },
   "outputs": [
    {
     "name": "stdout",
     "output_type": "stream",
     "text": [
      "all the keys in the Movie dictionary: dict_keys(['name', 'director', 'year'])\n"
     ]
    }
   ],
   "source": [
    "# keys() return all the keys in the dictionary\n",
    "print('all the keys in the Movie dictionary:', Movie.keys())"
   ]
  },
  {
   "cell_type": "code",
   "execution_count": 51,
   "id": "f2dd4584",
   "metadata": {},
   "outputs": [
    {
     "name": "stdout",
     "output_type": "stream",
     "text": [
      "all the items in the Movie dictionary: dict_values(['Twin Peaks', 'David Lynch', 1990])\n"
     ]
    }
   ],
   "source": [
    "# items( returns a list of the tuple pairs (Keys, Value) in the dictionary)\n",
    "print('all the items in the Movie dictionary:', Movie.values()) "
   ]
  },
  {
   "cell_type": "code",
   "execution_count": null,
   "id": "e5752826",
   "metadata": {},
   "outputs": [],
   "source": [
    "### EXERCISES ###"
   ]
  },
  {
   "cell_type": "code",
   "execution_count": 52,
   "id": "b8957b0f",
   "metadata": {},
   "outputs": [
    {
     "data": {
      "text/plain": [
       "'Twin Peaks'"
      ]
     },
     "execution_count": 52,
     "metadata": {},
     "output_type": "execute_result"
    }
   ],
   "source": [
    "#1# use the get method to pring the value of the \"name\" of the Movie dictionary\n",
    "Movie.get(\"name\")"
   ]
  },
  {
   "cell_type": "code",
   "execution_count": 67,
   "id": "b5f58448",
   "metadata": {},
   "outputs": [],
   "source": [
    "#2# change the year from 1990 to 1991\n",
    "Movie.update({\"year\":1991})"
   ]
  },
  {
   "cell_type": "code",
   "execution_count": 68,
   "id": "6ef174e7",
   "metadata": {},
   "outputs": [],
   "source": [
    "#3# add the key/value pair \"genre\": \"mystery/drama/horror\" to the Movie dictionary\n",
    "\n",
    "Movie.update({\"genre\":\"Mystery/drama/horror\"})"
   ]
  },
  {
   "cell_type": "code",
   "execution_count": 69,
   "id": "bffe7d48",
   "metadata": {},
   "outputs": [
    {
     "data": {
      "text/plain": [
       "'Mystery/drama/horror'"
      ]
     },
     "execution_count": 69,
     "metadata": {},
     "output_type": "execute_result"
    }
   ],
   "source": [
    "#4# use the pop method to remove \"genre\" from the movie dictionary and return to screen\n",
    "\n",
    "Movie.pop(\"genre\")"
   ]
  },
  {
   "cell_type": "code",
   "execution_count": 71,
   "id": "a624a02c",
   "metadata": {},
   "outputs": [
    {
     "data": {
      "text/plain": [
       "{'name': 'Twin Peaks', 'director': 'David Lynch', 'year': 1991}"
      ]
     },
     "execution_count": 71,
     "metadata": {},
     "output_type": "execute_result"
    }
   ],
   "source": [
    "Movie"
   ]
  },
  {
   "cell_type": "code",
   "execution_count": 73,
   "id": "2bcc203e",
   "metadata": {},
   "outputs": [],
   "source": [
    "### SETS AND TUPLES ###\n",
    "\n",
    "# Tuples are used to store multiple items in a single variable. A tuple is a collection which is ordered and unchangeable.\n",
    "# However, sets are unordered. Set elements are unique. Duplicate elements are not allowed."
   ]
  },
  {
   "cell_type": "code",
   "execution_count": 74,
   "id": "1b3e0d12",
   "metadata": {},
   "outputs": [],
   "source": [
    "sample_set = set((3,4,5,6))"
   ]
  },
  {
   "cell_type": "code",
   "execution_count": 75,
   "id": "b73fb031",
   "metadata": {},
   "outputs": [
    {
     "data": {
      "text/plain": [
       "set"
      ]
     },
     "execution_count": 75,
     "metadata": {},
     "output_type": "execute_result"
    }
   ],
   "source": [
    "type(sample_set)"
   ]
  },
  {
   "cell_type": "code",
   "execution_count": 76,
   "id": "36e7a1b4",
   "metadata": {},
   "outputs": [
    {
     "data": {
      "text/plain": [
       "{0, 3, 4, 5, 7}"
      ]
     },
     "execution_count": 76,
     "metadata": {},
     "output_type": "execute_result"
    }
   ],
   "source": [
    "x = [0,3,7,3,7,4,4,5]\n",
    "set(x)"
   ]
  },
  {
   "cell_type": "code",
   "execution_count": 79,
   "id": "fa7219f6",
   "metadata": {},
   "outputs": [
    {
     "name": "stdout",
     "output_type": "stream",
     "text": [
      "['L', 'e', 'a', 'r', 'n', 'i', 'n', 'g', ' ', 'P', 'y', 't', 'h', 'o', 'n', ' ', 'i', 's', ' ', 'v', 'e', 'r', 'y', ' ', 'e', 'a', 's', 'y', '!']\n",
      "{'n', 'i', 'a', 't', 'L', 'r', 'y', 'P', 'h', 'o', '!', ' ', 'g', 'v', 's', 'e'}\n"
     ]
    }
   ],
   "source": [
    "string = \"Learning Python is very easy!\"\n",
    "\n",
    "print(list(string))\n",
    "print(set(string))"
   ]
  },
  {
   "cell_type": "code",
   "execution_count": 81,
   "id": "be1c2a9f",
   "metadata": {},
   "outputs": [
    {
     "name": "stdout",
     "output_type": "stream",
     "text": [
      "('apple', 'banana', 'cherry')\n"
     ]
    }
   ],
   "source": [
    "thistuple = (\"apple\", \"banana\", \"cherry\")\n",
    "print(thistuple)"
   ]
  },
  {
   "cell_type": "code",
   "execution_count": 82,
   "id": "226cf216",
   "metadata": {},
   "outputs": [
    {
     "name": "stdout",
     "output_type": "stream",
     "text": [
      "3\n"
     ]
    }
   ],
   "source": [
    "print(len(thistuple))"
   ]
  },
  {
   "cell_type": "code",
   "execution_count": 83,
   "id": "3fc45a21",
   "metadata": {},
   "outputs": [],
   "source": [
    "############### OPERATORS ###############"
   ]
  },
  {
   "cell_type": "code",
   "execution_count": 85,
   "id": "96d537ae",
   "metadata": {},
   "outputs": [],
   "source": [
    "## Arithmetic operators\n",
    "\n",
    "# Addition:       a + b\n",
    "# Subtraction:    a - b\n",
    "# Multiplication: a * b\n",
    "# Division:       a / b\n",
    "# Power:          a ** n\n",
    "# Modulus:        a % b   <-- returns remainder of division\n",
    "# Floor division: a // b  <-- divides and rounds down to nearest whole number"
   ]
  },
  {
   "cell_type": "code",
   "execution_count": 53,
   "id": "f4064960",
   "metadata": {},
   "outputs": [
    {
     "data": {
      "text/plain": [
       "10"
      ]
     },
     "execution_count": 53,
     "metadata": {},
     "output_type": "execute_result"
    }
   ],
   "source": [
    "(10//3)*3+(10%3)"
   ]
  },
  {
   "cell_type": "code",
   "execution_count": 54,
   "id": "118cb94c",
   "metadata": {},
   "outputs": [],
   "source": [
    "## Logical operators\n",
    "\n",
    "# not:   \"not a = False\"   if a = True   <-- reverses the logical state\n",
    "# and:   \"a and b = True\"  if a = True and b = True   <-- expression is true off all of its operators are true\n",
    "# or:    \"a or b = True\"   if a = True or b = True   <-- expression "
   ]
  },
  {
   "cell_type": "code",
   "execution_count": 87,
   "id": "447c48c2",
   "metadata": {},
   "outputs": [],
   "source": [
    "## Comparison operators\n",
    "\n",
    "# <  : less than        : a < b\n",
    "# <= : less or equal    : a <= b\n",
    "# >  : greater than     : a > b\n",
    "# >= : greater or equal : a >= b\n",
    "# == : equal            : a == b\n",
    "# != : not equal        : a != b\n",
    "\n",
    "# E.g. if we say verbally \n",
    "# “give me the results for all animals that were equal to or younger than 2 weeks”, \n",
    "# than we can translate this in a code: \n",
    "# r2 = r(age>=2)"
   ]
  },
  {
   "cell_type": "code",
   "execution_count": 55,
   "id": "e4fb5d5d",
   "metadata": {},
   "outputs": [
    {
     "name": "stdout",
     "output_type": "stream",
     "text": [
      "1 True\n",
      "2 False\n",
      "3 True\n",
      "4 False\n",
      "5 True\n",
      "6 True\n",
      "7 False\n",
      "8 True\n",
      "9 False\n"
     ]
    }
   ],
   "source": [
    "a = 6\n",
    "b = 7\n",
    "c = 42\n",
    "print(1, a == 6)\n",
    "print(2, a == 7)\n",
    "print(3, a == 6 and b == 7)\n",
    "print(4, a == 7 and b == 7)\n",
    "print(5, not a == 7 and b == 7)\n",
    "print(6, a == 7 or b == 7)\n",
    "print(7, a == 7 or b == 6)\n",
    "print(8, not (a == 7 and b == 6))\n",
    "print(9, not a == 7 and b == 6)"
   ]
  },
  {
   "cell_type": "code",
   "execution_count": 88,
   "id": "2a8eac53",
   "metadata": {},
   "outputs": [],
   "source": [
    "############### IF STATEMENTS AND LOOPS ###############"
   ]
  },
  {
   "cell_type": "code",
   "execution_count": 58,
   "id": "7156b171",
   "metadata": {},
   "outputs": [
    {
     "name": "stdout",
     "output_type": "stream",
     "text": [
      "event is 2\n"
     ]
    }
   ],
   "source": [
    "## If statement\n",
    "\n",
    "r = 2.4\n",
    "if r > 2.4:\n",
    "    event = 1\n",
    "elif r == 2.4:\n",
    "    event = 2\n",
    "else:\n",
    "    event = 0\n",
    "print('event is', event)"
   ]
  },
  {
   "cell_type": "code",
   "execution_count": null,
   "id": "998169bb",
   "metadata": {},
   "outputs": [],
   "source": [
    "## Loops\n",
    "\n",
    "for variable_name in list_of_variable_name: # initial a loop\n",
    "    statement  # body"
   ]
  },
  {
   "cell_type": "code",
   "execution_count": 59,
   "id": "ad0e4db0",
   "metadata": {},
   "outputs": [
    {
     "name": "stdout",
     "output_type": "stream",
     "text": [
      "1\n",
      "2\n",
      "3\n"
     ]
    }
   ],
   "source": [
    "x = [1,2,3]\n",
    "\n",
    "for i in x:\n",
    "    print(i)"
   ]
  },
  {
   "cell_type": "code",
   "execution_count": 1,
   "id": "0b6c95d4",
   "metadata": {},
   "outputs": [
    {
     "name": "stdout",
     "output_type": "stream",
     "text": [
      "square of  0 is 0\n",
      "square of  1 is 1\n",
      "square of  2 is 4\n",
      "square of  3 is 9\n",
      "square of  4 is 16\n",
      "square of  5 is 25\n",
      "square of  6 is 36\n",
      "square of  7 is 49\n",
      "square of  8 is 64\n",
      "square of  9 is 81\n"
     ]
    }
   ],
   "source": [
    "# range(start_value, stop_value, step)\n",
    "\n",
    "for i in range(10):\n",
    "    print('square of ', i, 'is', i*i)"
   ]
  },
  {
   "cell_type": "code",
   "execution_count": 57,
   "id": "2b5a6688",
   "metadata": {},
   "outputs": [
    {
     "name": "stdout",
     "output_type": "stream",
     "text": [
      "square of  0  is  0\n",
      "square of  3  is  9\n",
      "square of  5  is  25\n",
      "square of  4  is  16\n",
      "square of  2  is  4\n",
      "square of  7  is  49\n"
     ]
    }
   ],
   "source": [
    "my_list = [0,3,5,4,2,7]\n",
    "\n",
    "for i in range(len(my_list)):\n",
    "    j = my_list[i]\n",
    "    print('square of ',j, ' is ', j*j)\n",
    "    "
   ]
  },
  {
   "cell_type": "code",
   "execution_count": 91,
   "id": "fb6560bf",
   "metadata": {},
   "outputs": [
    {
     "name": "stdout",
     "output_type": "stream",
     "text": [
      "4 3\n"
     ]
    }
   ],
   "source": [
    "### EXERCISES ###\n",
    "\n",
    "# count the number of even and odd numbers\n",
    "sample_list = [2,3,4,5,8,2,9]\n",
    "\n",
    "even_count = 0\n",
    "odd_count = 0\n",
    "\n",
    "for i in sample_list:\n",
    "    if i%2 == 0:\n",
    "        even_count = even_count +1\n",
    "    else:\n",
    "        odd_count = odd_count +1\n",
    "\n",
    "print(even_count, odd_count)"
   ]
  },
  {
   "cell_type": "code",
   "execution_count": 2,
   "id": "31f092cd",
   "metadata": {},
   "outputs": [
    {
     "ename": "SyntaxError",
     "evalue": "invalid syntax (1796068465.py, line 10)",
     "output_type": "error",
     "traceback": [
      "\u001b[0;36m  Input \u001b[0;32mIn [2]\u001b[0;36m\u001b[0m\n\u001b[0;31m    elif\u001b[0m\n\u001b[0m        ^\u001b[0m\n\u001b[0;31mSyntaxError\u001b[0m\u001b[0;31m:\u001b[0m invalid syntax\n"
     ]
    }
   ],
   "source": [
    "# count the number of even and odd numbers when there is a string\n",
    "sample_list = [2,3,4,5,8,2,9,\"ahmet\"]\n",
    "\n",
    "even_count = 0\n",
    "odd_count = 0\n",
    "\n",
    "for i in sample_list:\n",
    "    if type(i)==str:\n",
    "        print(\"ERROR\")\n",
    "    elif:\n",
    "        if i%2 == 0:\n",
    "            even_count = even_count +1\n",
    "        else:\n",
    "            odd_count = odd_count +1\n",
    "\n",
    "print(even_count, odd_count)   "
   ]
  },
  {
   "cell_type": "code",
   "execution_count": 106,
   "id": "3ce2b98b",
   "metadata": {},
   "outputs": [
    {
     "name": "stdout",
     "output_type": "stream",
     "text": [
      "[0, 1, 1, 2, 3, 5, 8, 13, 21, 34, 55, 89, 144, 233, 377, 610, 987, 1597, 2584, 4181, 6765, 10946, 17711, 28657, 46368, 75025, 121393, 196418, 317811, 514229, 832040, 1346269, 2178309, 3524578, 5702887, 9227465, 14930352, 24157817, 39088169, 63245986, 102334155, 165580141, 267914296, 433494437, 701408733, 1134903170, 1836311903, 2971215073, 4807526976, 7778742049, 12586269025, 20365011074]\n"
     ]
    }
   ],
   "source": [
    "# get the Fibonacci series between 0 and 50\n",
    "\n",
    "fib = [*range(2)]\n",
    "\n",
    "fib1 =fib[0]\n",
    "fib2 = fib[1]\n",
    "\n",
    "for i in range(50):\n",
    "    fib.append(fib1 + fib2)\n",
    "    fib1=fib[i+1]\n",
    "    fib2=fib[i+2]\n",
    "    \n",
    "print(fib)"
   ]
  },
  {
   "cell_type": "code",
   "execution_count": 109,
   "id": "2f531a4f",
   "metadata": {},
   "outputs": [
    {
     "name": "stdout",
     "output_type": "stream",
     "text": [
      "52\n"
     ]
    }
   ],
   "source": [
    "# sum values in x\n",
    "\n",
    "x = [3,4,5,17,23]\n",
    "\n",
    "sum_x = 0\n",
    "\n",
    "for i in x:\n",
    "    sum_x = sum_x + i\n",
    "    \n",
    "print(sum_x)"
   ]
  },
  {
   "cell_type": "code",
   "execution_count": 110,
   "id": "96dfee4f",
   "metadata": {},
   "outputs": [
    {
     "name": "stdout",
     "output_type": "stream",
     "text": [
      "3\n",
      "7\n",
      "12\n",
      "29\n",
      "52\n"
     ]
    }
   ],
   "source": [
    "# sum in loop\n",
    "\n",
    "x = [3,4,5,17,23]\n",
    "\n",
    "sum_x = 0\n",
    "\n",
    "for i in x:\n",
    "    sum_x = sum_x + i\n",
    "    print(sum_x)"
   ]
  },
  {
   "cell_type": "code",
   "execution_count": 111,
   "id": "3354e71c",
   "metadata": {},
   "outputs": [
    {
     "name": "stdout",
     "output_type": "stream",
     "text": [
      "23\n"
     ]
    }
   ],
   "source": [
    "# get max and min\n",
    "\n",
    "maximum = x[0]\n",
    "\n",
    "for i in x:\n",
    "    if maximum < i: \n",
    "        maximum = i\n",
    "    else:\n",
    "        continue\n",
    "\n",
    "print(maximum)"
   ]
  },
  {
   "cell_type": "code",
   "execution_count": 6,
   "id": "ffddf092",
   "metadata": {},
   "outputs": [
    {
     "name": "stdout",
     "output_type": "stream",
     "text": [
      "[]\n",
      "[]\n",
      "[]\n",
      "[]\n",
      "[]\n",
      "[]\n",
      "[]\n",
      "[]\n",
      "[]\n",
      "[]\n"
     ]
    }
   ],
   "source": [
    "x = []\n",
    "\n",
    "for i in range(10):\n",
    "    print(x)"
   ]
  },
  {
   "cell_type": "code",
   "execution_count": 115,
   "id": "a03b853b",
   "metadata": {},
   "outputs": [
    {
     "name": "stdout",
     "output_type": "stream",
     "text": [
      "10\n",
      "20\n",
      "30\n",
      "40\n",
      "50\n"
     ]
    }
   ],
   "source": [
    "i = 0\n",
    "\n",
    "while i<5:\n",
    "    i=i+1\n",
    "    print(10*i)"
   ]
  },
  {
   "cell_type": "code",
   "execution_count": 114,
   "id": "fd6831a7",
   "metadata": {},
   "outputs": [],
   "source": [
    "## INPUTS ##"
   ]
  },
  {
   "cell_type": "code",
   "execution_count": 116,
   "id": "d81c6464",
   "metadata": {},
   "outputs": [
    {
     "name": "stdout",
     "output_type": "stream",
     "text": [
      "How old are you?\n",
      "25\n",
      "How tall are you?\n",
      "160\n"
     ]
    }
   ],
   "source": [
    "print(\"How old are you?\")\n",
    "age = float(input()) # what happends if we don't include float: gives you a box\n",
    "print(\"How tall are you?\")\n",
    "heigh = float(input()) "
   ]
  },
  {
   "cell_type": "code",
   "execution_count": 1,
   "id": "2ea270c2",
   "metadata": {},
   "outputs": [],
   "source": [
    "############### FUNCTIONS ###############"
   ]
  },
  {
   "cell_type": "code",
   "execution_count": 2,
   "id": "6815f0f5",
   "metadata": {},
   "outputs": [
    {
     "name": "stdout",
     "output_type": "stream",
     "text": [
      "HelloFuat\n"
     ]
    }
   ],
   "source": [
    "def greeting(name):\n",
    "    return 'Hello' + name\n",
    "print(greeting('Fuat'))"
   ]
  },
  {
   "cell_type": "code",
   "execution_count": 5,
   "id": "69151d3a",
   "metadata": {},
   "outputs": [
    {
     "name": "stdout",
     "output_type": "stream",
     "text": [
      "Hello lovely Fuat.\n",
      "You are the best!\n"
     ]
    }
   ],
   "source": [
    "def greeting(name): #function header\n",
    "    \n",
    "    \n",
    "    # docstring: explanation of what function is about. for example here:\n",
    "    \"\"\"Returns a greeting\n",
    "    given a name.\"\"\"\n",
    "    \n",
    "    \n",
    "    # ----- body of the function ------ #\n",
    "    message = \"Hello lovely \" + name + \".\\n\"\n",
    "    message = message + \"You are the best!\"\n",
    "    # -------------------------------- #\n",
    "    \n",
    "    \n",
    "    return message # return statement\n",
    "\n",
    "print(greeting('Fuat'))"
   ]
  },
  {
   "cell_type": "code",
   "execution_count": 7,
   "id": "ef34d5cc",
   "metadata": {},
   "outputs": [
    {
     "name": "stdout",
     "output_type": "stream",
     "text": [
      "37\n",
      "FuatKina\n"
     ]
    }
   ],
   "source": [
    "def sum_two_numbers(a,b):\n",
    "    \"\"\"Returns sum of two value\"\"\"\n",
    "    return a + b\n",
    "\n",
    "print(sum_two_numbers(25,12))\n",
    "print(sum_two_numbers('Fuat','Kina'))"
   ]
  },
  {
   "cell_type": "code",
   "execution_count": 8,
   "id": "6f236e8f",
   "metadata": {},
   "outputs": [],
   "source": [
    "##### EXERCISES (Functions) #####"
   ]
  },
  {
   "cell_type": "code",
   "execution_count": 11,
   "id": "65c3242c",
   "metadata": {},
   "outputs": [
    {
     "name": "stdout",
     "output_type": "stream",
     "text": [
      "27\n"
     ]
    }
   ],
   "source": [
    "### write a python function to find the max of three numbers\n",
    "\n",
    "def max_of_three(a,b,c):\n",
    "    x = max(a,b)\n",
    "    y = max(x,c)\n",
    "    return y\n",
    "\n",
    "print(max_of_three(3,27,12))"
   ]
  },
  {
   "cell_type": "code",
   "execution_count": 12,
   "id": "c3615a94",
   "metadata": {},
   "outputs": [
    {
     "name": "stdout",
     "output_type": "stream",
     "text": [
      "-336\n"
     ]
    }
   ],
   "source": [
    "### write a python function to multiple all the numbers in a list\n",
    "\n",
    "def multiplier(my_list):\n",
    "    multiplier = 1\n",
    "    for ele in my_list:\n",
    "        multiplier = multiplier * ele\n",
    "    return multiplier\n",
    "\n",
    "sample_list = [8,2,3,-1,7]\n",
    "\n",
    "print(multiplier(sample_list))"
   ]
  },
  {
   "cell_type": "code",
   "execution_count": 16,
   "id": "b41da39a",
   "metadata": {},
   "outputs": [
    {
     "name": "stdout",
     "output_type": "stream",
     "text": [
      "([1, 3, 4, 5, 7], [1, 3, 4, 5, 7])\n"
     ]
    }
   ],
   "source": [
    "### write a python function that takes a list and returns a new list with unique elements of the first list ###\n",
    "\n",
    "def unique(my_list):\n",
    "    dynamic_list = my_list.copy()\n",
    "    unique_list = []\n",
    "    \n",
    "    for ele in my_list:\n",
    "        if dynamic_list.count(ele) > 1:\n",
    "            dynamic_list.remove(ele)\n",
    "        else:\n",
    "            unique_list.append(ele)\n",
    "    return unique_list, dynamic_list\n",
    "    \n",
    "sample_list = [1,1,3,3,3,3,4,4,4,5,7,7,7]\n",
    "\n",
    "print(unique(sample_list))"
   ]
  },
  {
   "cell_type": "code",
   "execution_count": 21,
   "id": "8e424431",
   "metadata": {},
   "outputs": [
    {
     "name": "stdout",
     "output_type": "stream",
     "text": [
      "[5]\n"
     ]
    }
   ],
   "source": [
    "def unique(my_list):\n",
    "    unique_list = []\n",
    "    \n",
    "    for ele in my_list:\n",
    "        if my_list.count(ele) == 1:\n",
    "            unique_list.append(ele)\n",
    "        else:\n",
    "            continue\n",
    "            \n",
    "    return unique_list\n",
    "    \n",
    "sample_list = [1,1,3,3,3,3,4,4,4,5,7,7,7]\n",
    "\n",
    "print(unique(sample_list))"
   ]
  },
  {
   "cell_type": "code",
   "execution_count": 25,
   "id": "f44610c3",
   "metadata": {},
   "outputs": [
    {
     "data": {
      "text/plain": [
       "False"
      ]
     },
     "execution_count": 25,
     "metadata": {},
     "output_type": "execute_result"
    }
   ],
   "source": [
    "#### write a python function that takes a number as a parameter and check the number is prime or not\n",
    "\n",
    "\n",
    "\n",
    "def is_prime(x):\n",
    "    is_prime = True\n",
    "    if x == 1:\n",
    "        is_prime = False\n",
    "    elif x == 2:\n",
    "        is_prime = True\n",
    "    else:\n",
    "        for i in range(2,x):\n",
    "            if x%i == 0: \n",
    "                is_prime = False\n",
    "                break ### bolebildigini buldugunda looptan cikmasi icin \n",
    "            else:\n",
    "                is_prime = True\n",
    "                \n",
    "    return is_prime\n",
    "\n",
    "is_prime(21)"
   ]
  },
  {
   "cell_type": "code",
   "execution_count": null,
   "id": "8b34cf0a",
   "metadata": {},
   "outputs": [],
   "source": [
    "############### FILES ###############"
   ]
  },
  {
   "cell_type": "code",
   "execution_count": 27,
   "id": "8b915911",
   "metadata": {},
   "outputs": [],
   "source": [
    "# define the file name\n",
    "filename = 'example.txt'\n",
    "\n",
    "# create and open the file to modify. 'w' stands for writing mode\n",
    "f = open(filename, 'w')\n",
    "\n",
    "# write in the open file f\n",
    "f.write(\"6 words story:\\n\")\n",
    "f.write( \"For sale: baby shoes, never worn.\")\n",
    "\n",
    "# close the file\n",
    "f.close()"
   ]
  },
  {
   "cell_type": "code",
   "execution_count": 29,
   "id": "40473b43",
   "metadata": {},
   "outputs": [
    {
     "name": "stdout",
     "output_type": "stream",
     "text": [
      "6 words story:\n",
      "For sale: baby shoes, never worn.\n"
     ]
    }
   ],
   "source": [
    "# define the file name\n",
    "filename = 'example.txt'\n",
    "\n",
    "# open the file to read. 'r' stands for writing mode\n",
    "f = open(filename, 'r')\n",
    "\n",
    "# read the content of the file\n",
    "data= f.read()\n",
    "\n",
    "# close the file\n",
    "f.close()\n",
    "\n",
    "print(data)"
   ]
  },
  {
   "cell_type": "code",
   "execution_count": 30,
   "id": "8c66189a",
   "metadata": {},
   "outputs": [
    {
     "data": {
      "text/plain": [
       "['6 words story:', 'For sale: baby shoes, never worn.']"
      ]
     },
     "execution_count": 30,
     "metadata": {},
     "output_type": "execute_result"
    }
   ],
   "source": [
    "# create a list where each element is one line of our file\n",
    "data.splitlines()"
   ]
  },
  {
   "cell_type": "code",
   "execution_count": 34,
   "id": "b644e933",
   "metadata": {},
   "outputs": [
    {
     "name": "stdout",
     "output_type": "stream",
     "text": [
      "For sale: baby shoes, never worn.\n",
      "['For', 'sale:', 'baby', 'shoes,', 'never', 'worn.']\n",
      "6\n"
     ]
    }
   ],
   "source": [
    "# count the number of words in the second line\n",
    "\n",
    "# defining the second line a s anew variable\n",
    "second_line = data.splitlines()[1]\n",
    "print(second_line)\n",
    "\n",
    "#seperate all the words\n",
    "words_second_line = second_line.split(' ')\n",
    "print(words_second_line)\n",
    "print(len(words_second_line))"
   ]
  },
  {
   "cell_type": "code",
   "execution_count": 2,
   "id": "20a1fe99",
   "metadata": {},
   "outputs": [
    {
     "name": "stdout",
     "output_type": "stream",
     "text": [
      "Requirement already satisfied: pandas in ./opt/anaconda3/lib/python3.9/site-packages (1.4.2)\n",
      "Requirement already satisfied: python-dateutil>=2.8.1 in ./opt/anaconda3/lib/python3.9/site-packages (from pandas) (2.8.2)\n",
      "Requirement already satisfied: pytz>=2020.1 in ./opt/anaconda3/lib/python3.9/site-packages (from pandas) (2021.3)\n",
      "Requirement already satisfied: numpy>=1.18.5 in ./opt/anaconda3/lib/python3.9/site-packages (from pandas) (1.21.5)\n",
      "Requirement already satisfied: six>=1.5 in ./opt/anaconda3/lib/python3.9/site-packages (from python-dateutil>=2.8.1->pandas) (1.16.0)\n",
      "Note: you may need to restart the kernel to use updated packages.\n"
     ]
    }
   ],
   "source": [
    "pip install pandas\n"
   ]
  },
  {
   "cell_type": "code",
   "execution_count": 3,
   "id": "ae764da8",
   "metadata": {},
   "outputs": [
    {
     "name": "stdout",
     "output_type": "stream",
     "text": [
      "Requirement already satisfied: matplotlib in ./opt/anaconda3/lib/python3.9/site-packages (3.5.1)\n",
      "Requirement already satisfied: pillow>=6.2.0 in ./opt/anaconda3/lib/python3.9/site-packages (from matplotlib) (9.0.1)\n",
      "Requirement already satisfied: numpy>=1.17 in ./opt/anaconda3/lib/python3.9/site-packages (from matplotlib) (1.21.5)\n",
      "Requirement already satisfied: packaging>=20.0 in ./opt/anaconda3/lib/python3.9/site-packages (from matplotlib) (21.3)\n",
      "Requirement already satisfied: pyparsing>=2.2.1 in ./opt/anaconda3/lib/python3.9/site-packages (from matplotlib) (3.0.4)\n",
      "Requirement already satisfied: cycler>=0.10 in ./opt/anaconda3/lib/python3.9/site-packages (from matplotlib) (0.11.0)\n",
      "Requirement already satisfied: fonttools>=4.22.0 in ./opt/anaconda3/lib/python3.9/site-packages (from matplotlib) (4.25.0)\n",
      "Requirement already satisfied: kiwisolver>=1.0.1 in ./opt/anaconda3/lib/python3.9/site-packages (from matplotlib) (1.3.2)\n",
      "Requirement already satisfied: python-dateutil>=2.7 in ./opt/anaconda3/lib/python3.9/site-packages (from matplotlib) (2.8.2)\n",
      "Requirement already satisfied: six>=1.5 in ./opt/anaconda3/lib/python3.9/site-packages (from python-dateutil>=2.7->matplotlib) (1.16.0)\n",
      "Note: you may need to restart the kernel to use updated packages.\n"
     ]
    }
   ],
   "source": [
    "pip install matplotlib"
   ]
  },
  {
   "cell_type": "code",
   "execution_count": 7,
   "id": "6bc99221",
   "metadata": {},
   "outputs": [
    {
     "name": "stdout",
     "output_type": "stream",
     "text": [
      "Requirement already satisfied: beautifulsoup4 in ./opt/anaconda3/lib/python3.9/site-packages (4.11.1)\n",
      "Requirement already satisfied: soupsieve>1.2 in ./opt/anaconda3/lib/python3.9/site-packages (from beautifulsoup4) (2.3.1)\n",
      "Note: you may need to restart the kernel to use updated packages.\n"
     ]
    }
   ],
   "source": [
    "pip install beautifulsoup4\n"
   ]
  },
  {
   "cell_type": "code",
   "execution_count": 5,
   "id": "72b6e008",
   "metadata": {},
   "outputs": [
    {
     "name": "stdout",
     "output_type": "stream",
     "text": [
      "Requirement already satisfied: nltk in ./opt/anaconda3/lib/python3.9/site-packages (3.7)\n",
      "Requirement already satisfied: tqdm in ./opt/anaconda3/lib/python3.9/site-packages (from nltk) (4.64.0)\n",
      "Requirement already satisfied: joblib in ./opt/anaconda3/lib/python3.9/site-packages (from nltk) (1.1.0)\n",
      "Requirement already satisfied: click in ./opt/anaconda3/lib/python3.9/site-packages (from nltk) (8.0.4)\n",
      "Requirement already satisfied: regex>=2021.8.3 in ./opt/anaconda3/lib/python3.9/site-packages (from nltk) (2022.3.15)\n",
      "Note: you may need to restart the kernel to use updated packages.\n"
     ]
    }
   ],
   "source": [
    "pip install nltk"
   ]
  },
  {
   "cell_type": "code",
   "execution_count": null,
   "id": "b88ca3fd",
   "metadata": {},
   "outputs": [],
   "source": []
  }
 ],
 "metadata": {
  "kernelspec": {
   "display_name": "Python 3 (ipykernel)",
   "language": "python",
   "name": "python3"
  },
  "language_info": {
   "codemirror_mode": {
    "name": "ipython",
    "version": 3
   },
   "file_extension": ".py",
   "mimetype": "text/x-python",
   "name": "python",
   "nbconvert_exporter": "python",
   "pygments_lexer": "ipython3",
   "version": "3.9.12"
  }
 },
 "nbformat": 4,
 "nbformat_minor": 5
}
