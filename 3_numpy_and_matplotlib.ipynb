{
 "cells": [
  {
   "cell_type": "code",
   "execution_count": 1,
   "id": "bfb4009e",
   "metadata": {},
   "outputs": [],
   "source": [
    "############### NUMPY ###############"
   ]
  },
  {
   "cell_type": "code",
   "execution_count": 1,
   "id": "8d680518",
   "metadata": {},
   "outputs": [
    {
     "data": {
      "text/plain": [
       "2"
      ]
     },
     "execution_count": 1,
     "metadata": {},
     "output_type": "execute_result"
    }
   ],
   "source": [
    "# let's look at nested lists\n",
    "\n",
    "my_list = [1,2,5,[0,1],[2,3,5]]\n",
    "my_list[4][0]"
   ]
  },
  {
   "cell_type": "code",
   "execution_count": 5,
   "id": "c8bce73c",
   "metadata": {},
   "outputs": [
    {
     "name": "stdout",
     "output_type": "stream",
     "text": [
      "(3,)\n",
      "(2, 3)\n"
     ]
    },
    {
     "data": {
      "text/plain": [
       "array([[1, 2, 3],\n",
       "       [4, 5, 6]])"
      ]
     },
     "execution_count": 5,
     "metadata": {},
     "output_type": "execute_result"
    }
   ],
   "source": [
    "# numpy array #\n",
    "\n",
    "# first we import numpy. note that as we call numpy again and adaing its convenient to give a short name life np\n",
    "\n",
    "import numpy as np\n",
    "\n",
    "arr1d = np.array([1,2,3]) # create a one dimensional array\n",
    "arr2d = np.array( [ [1,2,3] , [4,5,6] ] ) # create a two dimensional array\n",
    "\n",
    "print(arr1d.shape)\n",
    "print(arr2d.shape)\n",
    "arr2d"
   ]
  },
  {
   "cell_type": "code",
   "execution_count": 3,
   "id": "d5a8460f",
   "metadata": {},
   "outputs": [
    {
     "name": "stdout",
     "output_type": "stream",
     "text": [
      "[[0. 0.]\n",
      " [0. 0.]]\n"
     ]
    }
   ],
   "source": [
    "# numpy also provides many functions to create arrays:\n",
    "\n",
    "import numpy as np\n",
    "\n",
    "a = np.zeros((2,2))     # create an array of all zeros\n",
    "print(a)                # prints \"[[0. 0.]\n",
    "                        #           0. 0.]]\"\n",
    "    "
   ]
  },
  {
   "cell_type": "code",
   "execution_count": 4,
   "id": "46a0a4ca",
   "metadata": {},
   "outputs": [
    {
     "name": "stdout",
     "output_type": "stream",
     "text": [
      "[[1. 1.]]\n"
     ]
    }
   ],
   "source": [
    "b = np.ones((1,2))    # Create an array of all ones\n",
    "print(b)              # Prints \"[[ 1.  1.]]\""
   ]
  },
  {
   "cell_type": "code",
   "execution_count": 5,
   "id": "4ede90ba",
   "metadata": {},
   "outputs": [
    {
     "name": "stdout",
     "output_type": "stream",
     "text": [
      "[[7 7]\n",
      " [7 7]]\n"
     ]
    }
   ],
   "source": [
    "c = np.full((2,2), 7)  # create a constant array\n",
    "print(c)               # prints \"[[7. 7.]\n",
    "                       #           7. 7.]]\""
   ]
  },
  {
   "cell_type": "code",
   "execution_count": 9,
   "id": "63b2a675",
   "metadata": {},
   "outputs": [
    {
     "name": "stdout",
     "output_type": "stream",
     "text": [
      "[[1. 0.]\n",
      " [0. 1.]]\n"
     ]
    }
   ],
   "source": [
    "d = np.eye(2)          # create a 2x2 identity matrix\n",
    "print(d)               # prints \"[[1.  0.]\n",
    "                       #               ]]\""
   ]
  },
  {
   "cell_type": "code",
   "execution_count": 14,
   "id": "0580ae0c",
   "metadata": {},
   "outputs": [
    {
     "name": "stdout",
     "output_type": "stream",
     "text": [
      "[[0.04059311 0.31324112]\n",
      " [0.77657334 0.51063975]]\n"
     ]
    }
   ],
   "source": [
    "e = np.random.random((2,2))\n",
    "print(e)"
   ]
  },
  {
   "cell_type": "code",
   "execution_count": 17,
   "id": "b3a5266c",
   "metadata": {},
   "outputs": [
    {
     "name": "stdout",
     "output_type": "stream",
     "text": [
      "[[3 7 3 4]\n",
      " [5 6 7 2]\n",
      " [2 1 1 1]]\n"
     ]
    }
   ],
   "source": [
    "### array indexing ###\n",
    "\n",
    "import numpy as np\n",
    "\n",
    "a = np.array([[3,7,3,4],[5,6,7,2],[2,1,1,1]])\n",
    "print(a)"
   ]
  },
  {
   "cell_type": "code",
   "execution_count": 16,
   "id": "14262f2b",
   "metadata": {},
   "outputs": [
    {
     "name": "stdout",
     "output_type": "stream",
     "text": [
      "[[7 3]\n",
      " [6 7]]\n"
     ]
    }
   ],
   "source": [
    "# Use slicing to pull out the subarray consisting of the first 2 rows\n",
    "# and columns 1 and 2; b is the following array of shape (2, 2):\n",
    "\n",
    "b = a[:2, 1:3]\n",
    "# A slice of an array is a view into the same data, so modifying it\n",
    "# will modify the original array.\n",
    "print(b)"
   ]
  },
  {
   "cell_type": "code",
   "execution_count": 18,
   "id": "62694fe4",
   "metadata": {},
   "outputs": [
    {
     "name": "stdout",
     "output_type": "stream",
     "text": [
      "7\n"
     ]
    }
   ],
   "source": [
    "print(a[0,1])  #0'inci row, 1'inci columna git"
   ]
  },
  {
   "cell_type": "code",
   "execution_count": 19,
   "id": "781ff7ac",
   "metadata": {},
   "outputs": [
    {
     "name": "stdout",
     "output_type": "stream",
     "text": [
      "7\n"
     ]
    }
   ],
   "source": [
    "b[0,0] = 3\n",
    "print(a[0,1])"
   ]
  },
  {
   "cell_type": "code",
   "execution_count": 20,
   "id": "e41a520a",
   "metadata": {},
   "outputs": [
    {
     "name": "stdout",
     "output_type": "stream",
     "text": [
      "[[3 3]\n",
      " [6 7]]\n"
     ]
    }
   ],
   "source": [
    "print(b)"
   ]
  },
  {
   "cell_type": "code",
   "execution_count": 21,
   "id": "a85d03c1",
   "metadata": {},
   "outputs": [],
   "source": [
    "### EXERCISES ###"
   ]
  },
  {
   "cell_type": "code",
   "execution_count": 22,
   "id": "4ec01100",
   "metadata": {},
   "outputs": [
    {
     "data": {
      "text/plain": [
       "array([[0., 0., 0.],\n",
       "       [0., 0., 0.],\n",
       "       [0., 0., 0.]])"
      ]
     },
     "execution_count": 22,
     "metadata": {},
     "output_type": "execute_result"
    }
   ],
   "source": [
    "#1# create a 3x3 numpy null array\n",
    "\n",
    "np.zeros((3,3))"
   ]
  },
  {
   "cell_type": "code",
   "execution_count": 23,
   "id": "c2291109",
   "metadata": {},
   "outputs": [
    {
     "name": "stdout",
     "output_type": "stream",
     "text": [
      "[1. 3. 5. 7.]\n"
     ]
    }
   ],
   "source": [
    "#2# extract all the odd numbers from an array #\n",
    "\n",
    "x = np.array([0,1,2,3,4,5,6,7])\n",
    "y = np.array([])\n",
    "\n",
    "for ele in x:\n",
    "    if ele%2!=0:\n",
    "        y = np.append(y, ele)\n",
    "    else:\n",
    "        continue\n",
    "        \n",
    "print(y)"
   ]
  },
  {
   "cell_type": "code",
   "execution_count": 24,
   "id": "23ac767c",
   "metadata": {},
   "outputs": [
    {
     "name": "stdout",
     "output_type": "stream",
     "text": [
      "[[0 1 2 3]\n",
      " [4 5 6 7]]\n"
     ]
    }
   ],
   "source": [
    "#3# convert a 1D array to a 2D array with 2 rows\n",
    "\n",
    "x = np.array([0,1,2,3,4,5,6,7])\n",
    "new_column = int(len(x)/2)\n",
    "x_revised = x.reshape(2,new_column) # it gives an output, but does not rewrite the object of x\n",
    "\n",
    "#OR x = np.reshape(x,(2,new_column))\n",
    "#OR x = np.reshape(x,(2,-1)) the unspecified value is inferred by the program\n",
    "\n",
    "print(x_revised)"
   ]
  },
  {
   "cell_type": "code",
   "execution_count": 29,
   "id": "ce2a55a5",
   "metadata": {},
   "outputs": [
    {
     "name": "stdout",
     "output_type": "stream",
     "text": [
      "[0 1 2 3 4 5 6 7 8 9]\n",
      "(10,)\n",
      "\n",
      "\n",
      "[[0 1 2 3 4]\n",
      " [5 6 7 8 9]]\n",
      "(2, 5)\n"
     ]
    }
   ],
   "source": [
    "#4# stack arrays vertically\n",
    "# first_array = np.arange(10).reshape(2,-1)\n",
    "# second_array = np.repeat(1,10).reshape(2,-1)\n",
    "\n",
    "first_array = np.arange(10)\n",
    "print(first_array)\n",
    "print(first_array.shape)\n",
    "print('\\n')\n",
    "first_array = first_array.reshape(2,-1)\n",
    "print(first_array)\n",
    "print(first_array.shape)"
   ]
  },
  {
   "cell_type": "code",
   "execution_count": 35,
   "id": "f51cfa29",
   "metadata": {},
   "outputs": [
    {
     "name": "stdout",
     "output_type": "stream",
     "text": [
      "[1 1 1 1 1 1 1 1 1 1]\n",
      "(10,)\n",
      "\n",
      "\n",
      "[[1 1 1 1 1]\n",
      " [1 1 1 1 1]]\n",
      "(2, 5)\n"
     ]
    }
   ],
   "source": [
    "# second_array = np.repeat(1,10).reshape(2,-1)\n",
    "\n",
    "second_array = np.repeat(1,10)\n",
    "print(second_array)\n",
    "print(second_array.shape)\n",
    "print('\\n')\n",
    "second_array = second_array.reshape(2,-1)\n",
    "print(second_array)\n",
    "print(second_array.shape)"
   ]
  },
  {
   "cell_type": "code",
   "execution_count": 30,
   "id": "34175112",
   "metadata": {},
   "outputs": [
    {
     "name": "stdout",
     "output_type": "stream",
     "text": [
      "[0 1 2 3 4 5 6 7 8 9 1 1 1 1 1 1 1 1 1 1]\n",
      "(20,)\n"
     ]
    }
   ],
   "source": [
    "stack = np.append(first_array, second_array)\n",
    "print(stack)\n",
    "print(stack.shape)"
   ]
  },
  {
   "cell_type": "code",
   "execution_count": 31,
   "id": "b80c26ed",
   "metadata": {},
   "outputs": [
    {
     "name": "stdout",
     "output_type": "stream",
     "text": [
      "[ 0  2  4  6  8 10 12 14]\n",
      "[6. 8.]\n"
     ]
    }
   ],
   "source": [
    "#5# get items if they are larger than 5 and smaller than 10 from an array of a\n",
    "\n",
    "a = np.arange(0,15,2)\n",
    "b = np.array([])\n",
    "print(a)\n",
    "\n",
    "for ele in a:\n",
    "    if ele < 10 and ele > 5:\n",
    "        b = np.append(b,ele)\n",
    "\n",
    "print(b)"
   ]
  },
  {
   "cell_type": "code",
   "execution_count": 32,
   "id": "77e4f78d",
   "metadata": {},
   "outputs": [
    {
     "name": "stdout",
     "output_type": "stream",
     "text": [
      "7.0\n",
      "7.0\n",
      "4.58257569495584\n"
     ]
    }
   ],
   "source": [
    "#6# find the mean, median, and std of a\n",
    "\n",
    "print(np.mean(a))\n",
    "print(np.median(a))\n",
    "print(np.std(a))"
   ]
  },
  {
   "cell_type": "code",
   "execution_count": 31,
   "id": "6cdc7a19",
   "metadata": {},
   "outputs": [
    {
     "name": "stdout",
     "output_type": "stream",
     "text": [
      "509\n"
     ]
    }
   ],
   "source": [
    "#7# define the indices of a's elements which are more than 0.5 \n",
    "a = np.random.rand(1000)\n",
    "idx = np.array([])\n",
    "\n",
    "for i in range(len(a)):\n",
    "    ele = a[i]\n",
    "    if ele > 0.5:\n",
    "        idx = np.append(idx,i)\n",
    "        \n",
    "print(len(idx))"
   ]
  },
  {
   "cell_type": "code",
   "execution_count": 33,
   "id": "afe6dd23",
   "metadata": {},
   "outputs": [
    {
     "data": {
      "text/plain": [
       "array([7, 6, 5, 4, 3, 2, 1, 0])"
      ]
     },
     "execution_count": 33,
     "metadata": {},
     "output_type": "execute_result"
    }
   ],
   "source": [
    "#8# reverse a vector so first element becomes last\n",
    "x = np.array([0, 1, 2, 3, 4, 5, 6, 7])\n",
    "\n",
    "rev = np.flip(x)\n",
    "rev\n",
    "\n",
    "# OR x[::-1]"
   ]
  },
  {
   "cell_type": "code",
   "execution_count": 36,
   "id": "85f20f0a",
   "metadata": {},
   "outputs": [
    {
     "name": "stdout",
     "output_type": "stream",
     "text": [
      "[0.26358755 0.26686002 0.57243233 0.12829205 0.21397197 0.46985396\n",
      " 0.63996291 0.22146277 0.00411449 0.01379317]\n"
     ]
    }
   ],
   "source": [
    "#9# create a radom vector of size 10 and replace the maximum value by 0\n",
    "vector = np.random.rand(10)\n",
    "print(vector)"
   ]
  },
  {
   "cell_type": "code",
   "execution_count": 37,
   "id": "267236e8",
   "metadata": {},
   "outputs": [
    {
     "name": "stdout",
     "output_type": "stream",
     "text": [
      "6\n"
     ]
    }
   ],
   "source": [
    "print(np.argmax(vector))"
   ]
  },
  {
   "cell_type": "code",
   "execution_count": 42,
   "id": "3f0601ca",
   "metadata": {},
   "outputs": [
    {
     "name": "stdout",
     "output_type": "stream",
     "text": [
      "[0.26358755 0.26686002 0.57243233 0.12829205 0.         0.21397197\n",
      " 0.46985396 0.63996291 0.22146277 0.00411449 0.01379317]\n"
     ]
    }
   ],
   "source": [
    "vector_rev=np.insert(vector, 4, 0)\n",
    "print(vector_rev)"
   ]
  },
  {
   "cell_type": "code",
   "execution_count": 47,
   "id": "5d51b287",
   "metadata": {},
   "outputs": [
    {
     "name": "stdout",
     "output_type": "stream",
     "text": [
      "[0.26358755 0.26686002 0.57243233 0.12829205 0.         0.21397197\n",
      " 0.46985396 0.         0.63996291 0.22146277 0.00411449 0.01379317]\n"
     ]
    }
   ],
   "source": [
    "vector_rev2=np.insert(vector_rev,np.argmax(vector_rev),0)\n",
    "print(vector_rev2)"
   ]
  },
  {
   "cell_type": "code",
   "execution_count": 48,
   "id": "7ceecc32",
   "metadata": {},
   "outputs": [
    {
     "name": "stdout",
     "output_type": "stream",
     "text": [
      "[[0.26358755 0.26686002 0.57243233 0.12829205 0.21397197]\n",
      " [0.46985396 0.63996291 0.22146277 0.00411449 0.01379317]]\n"
     ]
    }
   ],
   "source": [
    "#10# subtract the mean of each row of a matrix\n",
    "x = np.reshape(vector,(2,5))\n",
    "print(x)"
   ]
  },
  {
   "cell_type": "code",
   "execution_count": 50,
   "id": "e3fa027a",
   "metadata": {},
   "outputs": [
    {
     "name": "stdout",
     "output_type": "stream",
     "text": [
      "[0.28902878 0.26983746]\n"
     ]
    }
   ],
   "source": [
    "row_means = np.mean(x,1) #second argument of mean function present the axis rows=1, columns = 0, always\n",
    "print(row_means)"
   ]
  },
  {
   "cell_type": "code",
   "execution_count": 52,
   "id": "61d5645e",
   "metadata": {},
   "outputs": [
    {
     "name": "stdout",
     "output_type": "stream",
     "text": [
      "[0.28902878 0.26983746]\n"
     ]
    }
   ],
   "source": [
    "column_means = np.mean(x,1)\n",
    "print(column_means)"
   ]
  },
  {
   "cell_type": "code",
   "execution_count": 53,
   "id": "b8443a3b",
   "metadata": {},
   "outputs": [
    {
     "data": {
      "text/plain": [
       "array([[0.28902878, 0.28902878, 0.28902878, 0.28902878, 0.28902878],\n",
       "       [0.26983746, 0.26983746, 0.26983746, 0.26983746, 0.26983746]])"
      ]
     },
     "execution_count": 53,
     "metadata": {},
     "output_type": "execute_result"
    }
   ],
   "source": [
    "row_means_array = np.repeat(row_means, 5).reshape(2,5)\n",
    "row_means_array"
   ]
  },
  {
   "cell_type": "code",
   "execution_count": 54,
   "id": "aa635084",
   "metadata": {},
   "outputs": [
    {
     "name": "stdout",
     "output_type": "stream",
     "text": [
      "[[-0.02544123 -0.02216876  0.28340354 -0.16073673 -0.07505682]\n",
      " [ 0.2000165   0.37012545 -0.04837469 -0.26572297 -0.25604429]]\n"
     ]
    }
   ],
   "source": [
    "final = x - row_means_array\n",
    "print(final)"
   ]
  },
  {
   "cell_type": "code",
   "execution_count": 45,
   "id": "365f158a",
   "metadata": {},
   "outputs": [
    {
     "name": "stdout",
     "output_type": "stream",
     "text": [
      "[3 3 3 3]\n",
      "[[1 2]\n",
      " [3 4]]\n",
      "\n",
      "\n",
      "[1 1 2 2 3 3 4 4]\n",
      "\n",
      "\n",
      "[[1 2]\n",
      " [1 2]\n",
      " [1 2]\n",
      " [3 4]\n",
      " [3 4]\n",
      " [3 4]]\n",
      "\n",
      "\n",
      "[[1 1 1 2 2 2]\n",
      " [3 3 3 4 4 4]]\n",
      "\n",
      "\n",
      "[[1 2]\n",
      " [3 4]\n",
      " [3 4]]\n"
     ]
    }
   ],
   "source": [
    "# repeat function #\n",
    "\n",
    "print(np.repeat(3,4))\n",
    "x = np.array([[1,2],[3,4]])\n",
    "print(x)\n",
    "print('\\n')\n",
    "\n",
    "print(np.repeat(x,2))\n",
    "print('\\n')\n",
    "\n",
    "print(np.repeat(x, 3, axis=0))\n",
    "print('\\n')\n",
    "\n",
    "print(np.repeat(x, 3, axis=1))\n",
    "print('\\n')\n",
    "\n",
    "print(np.repeat(x, [1,2], axis=0))"
   ]
  },
  {
   "cell_type": "code",
   "execution_count": 55,
   "id": "eea95a44",
   "metadata": {},
   "outputs": [
    {
     "name": "stdout",
     "output_type": "stream",
     "text": [
      "[7684621550 7684728550 7684835550 7684942550 7685049550 7685156550\n",
      " 7685263550 7685370550 7685477550 7685584550]\n",
      "[17 18 19 20 21 22 23 24 25 26]\n"
     ]
    }
   ],
   "source": [
    "#11# world population\n",
    "\n",
    "world_pop_arr=([7684621550])\n",
    "world_pop=7684621550\n",
    "day_arr=([17])\n",
    "total_day=(26-17)+1\n",
    "growth_rate = 107000\n",
    "day_of_month=17\n",
    "\n",
    "for i in range(1,total_day):\n",
    "    world_pop = growth_rate + world_pop\n",
    "    world_pop_arr = np.append(world_pop_arr, world_pop)\n",
    "    \n",
    "for i in range(1,total_day):\n",
    "    day_of_month = day_of_month +1\n",
    "    day_arr=np.append(day_arr,day_of_month)\n",
    "\n",
    "print(world_pop_arr)\n",
    "print(day_arr)"
   ]
  },
  {
   "cell_type": "code",
   "execution_count": 50,
   "id": "923073fe",
   "metadata": {},
   "outputs": [
    {
     "name": "stdout",
     "output_type": "stream",
     "text": [
      "{17: 7684621550}\n"
     ]
    }
   ],
   "source": [
    "my_dict=dict(zip(day_arr, world_pop_arr))\n",
    "\n",
    "print(my_dict)\n",
    "\n",
    "np.save(\"example_dictionary.npy\", my_dict)"
   ]
  },
  {
   "cell_type": "code",
   "execution_count": 56,
   "id": "9e30dd3d",
   "metadata": {},
   "outputs": [
    {
     "data": {
      "text/plain": [
       "array([4., 5., 4.])"
      ]
     },
     "execution_count": 56,
     "metadata": {},
     "output_type": "execute_result"
    }
   ],
   "source": [
    "#12# write a time_resolved function\n",
    "\n",
    "def time_resolved(arr, w_size, shift):\n",
    "    sub_arr = np.array([])\n",
    "    for i in range(shift-1, w_size+shift-1):\n",
    "        sub_arr = np.append(sub_arr, arr[i])\n",
    "\n",
    "\n",
    "    return sub_arr\n",
    "\n",
    "\n",
    "arr=np.array([1,2,6,4,5,4,2,7,8,9]) # I expect to see [4,5,4] as the output of this function\n",
    "time_resolved(arr, 3, 4)"
   ]
  },
  {
   "cell_type": "code",
   "execution_count": null,
   "id": "1ed08c37",
   "metadata": {},
   "outputs": [],
   "source": [
    "############### MATPLOTLIB ###############"
   ]
  },
  {
   "cell_type": "code",
   "execution_count": 58,
   "id": "4648eecc",
   "metadata": {},
   "outputs": [
    {
     "data": {
      "image/png": "[encoded data removed]",
      "text/plain": [
       "<Figure size 432x288 with 1 Axes>"
      ]
     },
     "metadata": {
      "needs_background": "light"
     },
     "output_type": "display_data"
    }
   ],
   "source": [
    "import matplotlib.pyplot as plt \n",
    "\n",
    "# data to be plotted\n",
    "X = [1,2,3,4]\n",
    "Y = [10,22,30,40]\n",
    "\n",
    "# plot \n",
    "plt.plot(X, Y, 'b-o')\n",
    "# define xlabel\n",
    "plt.xlabel('X label')\n",
    "# define ylabel\n",
    "plt.ylabel('Y label')\n",
    "# show the plotted figure\n",
    "plt.show()"
   ]
  },
  {
   "cell_type": "code",
   "execution_count": 59,
   "id": "6de21773",
   "metadata": {},
   "outputs": [
    {
     "data": {
      "image/png": "[encoded data removed]",
      "text/plain": [
       "<Figure size 432x288 with 1 Axes>"
      ]
     },
     "metadata": {
      "needs_background": "light"
     },
     "output_type": "display_data"
    }
   ],
   "source": [
    "import numpy as np\n",
    "import matplotlib.pyplot as plt\n",
    "\n",
    "# evenly sampled time at 200ms intervals\n",
    "t = np.arange(0., 5., 0.2)\n",
    "\n",
    "# red dashes, blue squares and green triangles\n",
    "plt.plot(t, t, 'r', label='line one', linewidth=5)\n",
    "plt.plot(t, t**2, 'b^',label='line two', linewidth=2)\n",
    "plt.plot(t,t**3, 'g-^', label='marker', markersize = 4)\n",
    "plt.legend()\n",
    "plt.grid(True, color='k')\n",
    "plt.show()\n"
   ]
  },
  {
   "cell_type": "code",
   "execution_count": 60,
   "id": "b7cf4026",
   "metadata": {},
   "outputs": [
    {
     "data": {
      "image/png": "[encoded data removed]",
      "text/plain": [
       "<Figure size 432x288 with 1 Axes>"
      ]
     },
     "metadata": {
      "needs_background": "light"
     },
     "output_type": "display_data"
    }
   ],
   "source": [
    "import matplotlib.pyplot as plt\n",
    "population_age = [22,55,62,45,21,22,34,42,42,4,2,102,95,85,55,110,120,70,65,55,111,115,80,75,65,54,44,43,42,48]\n",
    "bins = [0,10,20,30,40,50,60,70,80,90,100]\n",
    "plt.hist(population_age, bins, histtype='bar', rwidth=0.5)\n",
    "plt.xlabel('age groups')\n",
    "plt.ylabel('Number of people')\n",
    "plt.title('Histogram')\n",
    "plt.show()"
   ]
  },
  {
   "cell_type": "code",
   "execution_count": null,
   "id": "e2c61b2e",
   "metadata": {},
   "outputs": [],
   "source": [
    "# https://matplotlib.org/gallery.html"
   ]
  },
  {
   "cell_type": "code",
   "execution_count": null,
   "id": "de36cd7c",
   "metadata": {},
   "outputs": [],
   "source": [
    "### EXERCISES ###"
   ]
  },
  {
   "cell_type": "code",
   "execution_count": null,
   "id": "ff2ee1e3",
   "metadata": {},
   "outputs": [],
   "source": [
    "#1# plot two or more lines with legends, different widths and colors\n",
    "\n"
   ]
  },
  {
   "cell_type": "code",
   "execution_count": 64,
   "id": "345e9b11",
   "metadata": {},
   "outputs": [
    {
     "name": "stdout",
     "output_type": "stream",
     "text": [
      "[351 805 620 395 997 784 265 428 476 789 381 783 835 775  79 634 140 774\n",
      " 428 840 301 574 397  95 906 781 430  58 273 929 167 349 179  59 247 805\n",
      " 634 130 491 898 386 892 390 867 297 377 697  37 842 160]\n",
      "[ 1  2  3  4  5  6  7  8  9 10 11 12 13 14 15 16 17 18 19 20 21 22 23 24\n",
      " 25 26 27 28 29 30 31 32 33 34 35 36 37 38 39 40 41 42 43 44 45 46 47 48\n",
      " 49 50]\n",
      "[789. 381. 783. 835. 775.  79. 634. 140. 774. 428. 840. 301. 574. 397.\n",
      "  95. 906. 781. 430.  58. 273.]\n"
     ]
    },
    {
     "data": {
      "text/plain": [
       "<function matplotlib.pyplot.show(close=None, block=None)>"
      ]
     },
     "execution_count": 64,
     "metadata": {},
     "output_type": "execute_result"
    },
    {
     "data": {
      "image/png": "[encoded data removed]",
      "text/plain": [
       "<Figure size 432x288 with 1 Axes>"
      ]
     },
     "metadata": {
      "needs_background": "light"
     },
     "output_type": "display_data"
    }
   ],
   "source": [
    "#7#  \n",
    "\n",
    "import matplotlib.pyplot as plt\n",
    "\n",
    "rand_val=np.random.randint(0,1000,50)\n",
    "print(rand_val)\n",
    "nr=np.arange(1,51)\n",
    "print(nr)\n",
    "plt.plot(nr, rand_val, 'r')\n",
    "\n",
    "def time_resolved(arr,w_size,shift):\n",
    "    sub_arr=np.array([])\n",
    "    for i in range(shift-1,shift+w_size-1):\n",
    "        sub_arr=np.append(sub_arr,arr[i])\n",
    "    return sub_arr\n",
    "\n",
    "sub_arr = time_resolved(rand_val,20,10)\n",
    "nr2=np.arange(10,30)\n",
    "\n",
    "print(sub_arr)\n",
    "plt.plot(nr2,sub_arr,'b')\n",
    "plt.show"
   ]
  },
  {
   "cell_type": "code",
   "execution_count": null,
   "id": "b3b86b00",
   "metadata": {},
   "outputs": [],
   "source": []
  }
 ],
 "metadata": {
  "kernelspec": {
   "display_name": "Python 3 (ipykernel)",
   "language": "python",
   "name": "python3"
  },
  "language_info": {
   "codemirror_mode": {
    "name": "ipython",
    "version": 3
   },
   "file_extension": ".py",
   "mimetype": "text/x-python",
   "name": "python",
   "nbconvert_exporter": "python",
   "pygments_lexer": "ipython3",
   "version": "3.9.12"
  }
 },
 "nbformat": 4,
 "nbformat_minor": 5
}
